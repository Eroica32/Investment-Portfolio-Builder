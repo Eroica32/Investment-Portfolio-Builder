{
 "cells": [
  {
   "cell_type": "code",
   "execution_count": 96,
   "metadata": {},
   "outputs": [],
   "source": [
    "from IPython.display import display, Math, Latex\n",
    "\n",
    "import pandas as pd\n",
    "import numpy as np\n",
    "import numpy_financial as npf\n",
    "import yfinance as yf\n",
    "import matplotlib.pyplot as plt\n",
    "from datetime import datetime\n",
    "import warnings\n",
    "warnings.filterwarnings('ignore')"
   ]
  },
  {
   "cell_type": "markdown",
   "metadata": {},
   "source": [
    "#### Group Assignment\n",
    "- Team Number: <font color=\"yellow\"> 12 </font>\n",
    "- Team Member Names: <font color=\"yellow\"> Robin Zhang, Jessica Chen, Eric Wang </font>\n",
    "- Team Strategy Chosen: <font color=\"red\"> Risky </font>\n",
    "\n",
    "@TODO\n",
    "- Fix the import\n",
    "- "
   ]
  },
  {
   "cell_type": "code",
   "execution_count": 97,
   "metadata": {},
   "outputs": [],
   "source": [
    "start_date = \"2019-11-25\"\n",
    "end_date = \"2022-11-25\"\n",
    "targetNumberofStocks = 12"
   ]
  },
  {
   "cell_type": "code",
   "execution_count": 98,
   "metadata": {},
   "outputs": [
    {
     "name": "stdout",
     "output_type": "stream",
     "text": [
      "- AGN: No data found, symbol may be delisted\n",
      "- CELG: No data found, symbol may be delisted\n",
      "- PCLN: No data found for this date range, symbol may be delisted\n",
      "- RTN: No data found, symbol may be delisted\n",
      "- TWX: No data found for this date range, symbol may be delisted\n",
      "['ABBV', 'ABT', 'ACN', 'AIG', 'AMZN', 'AXP', 'BA', 'BAC', 'BIIB', 'BK', 'BLK', 'BMY', 'C', 'CAT', 'CL', 'CMCSA', 'COF', 'COP', 'COST', 'CSCO', 'CVS', 'GM', 'GOOG', 'JPM', 'KMI', 'KO', 'LLY', 'LMT', 'MO', 'MON', 'MRK', 'MS', 'MSFT', 'NEE', 'NKE', 'ORCL', 'OXY', 'PEP', 'PFE', 'PG', 'PM', 'PYPL', 'QCOM', 'SBUX', 'SLB', 'SO', 'SPG', 'T', 'TGT', 'TXN', 'UNH', 'UNP', 'UPS', 'USB', 'AAPL', '^GSPC']\n"
     ]
    }
   ],
   "source": [
    "#Call the CSV file and store it in a dataframe\n",
    "tickers = pd.read_csv('Tickers_Example.csv')\n",
    "length = len(tickers)\n",
    "\n",
    "#get first value\n",
    "colname = tickers.columns[0]\n",
    "missing_data = pd.DataFrame({'AAPL': [colname]})\n",
    "\n",
    "tickers = tickers.append(missing_data)\n",
    "\n",
    "tickers.reset_index(inplace=True, drop=True)\n",
    "\n",
    "#make list of tickers\n",
    "#tickers is now AAPL because it does not work if tickers is called tickers\n",
    "#I am not sure why\n",
    "ticker_list = list(tickers.AAPL)\n",
    "\n",
    "ticker_data = {}\n",
    "new_lst = []\n",
    "i=0\n",
    "\n",
    "for t in ticker_list:\n",
    "    firm = yf.Ticker(ticker_list[i])\n",
    "    firm_hist = firm.history(start=start_date, end=end_date, interval='1mo')\n",
    "\n",
    "    ticker_data[t] = firm_hist.Volume\n",
    "\n",
    "    if ticker_data[t].mean() > 200000:\n",
    "        #make a new lst that stores the values where mean >200 000\n",
    "        #return that list\n",
    "        new_lst.append(ticker_list[i])\n",
    "\n",
    "    i = i + 1\n",
    "\n",
    "ticker_list = new_lst \n",
    "for t in ticker_list:\n",
    "    if \".\" in t:\n",
    "        ticker_list.remove(t)\n",
    "        \n",
    "ticker_list.append('^GSPC')\n",
    "print(ticker_list)"
   ]
  },
  {
   "cell_type": "code",
   "execution_count": 99,
   "metadata": {},
   "outputs": [],
   "source": [
    "class Stock:\n",
    "\n",
    "    # Initializing values when class is created\n",
    "    def __init__(self, ticker, start, end):\n",
    "\n",
    "\n",
    "        self.ticker = ticker\n",
    "        self.start = start\n",
    "        self.end = end\n",
    "        self.dateRange = pd.date_range(start=self.start, end=self.end, freq=pd.offsets.Week(1))\n",
    "        self.makeDataDict()\n",
    "        self.makeDataFrame()\n",
    "        self.makeColumns()\n",
    "\n",
    "    # Takes the history of the ticker and puts in dictionary\n",
    "    def makeDataDict(self):\n",
    "        self.companies = {}\n",
    "        self.companies[self.ticker] = yf.Ticker(self.ticker).history(start = self.start, end = self.end)['Close']\n",
    "\n",
    "    # Creates a DataFrame for every day 1 of the month\n",
    "    def makeDataFrame(self):\n",
    "        self.companiesDF = pd.DataFrame(self.companies)\n",
    "        self.companiesDF = self.companiesDF.groupby(pd.DatetimeIndex(self.companiesDF.index).to_period('W')).nth(0)\n",
    "        self.companiesDF['pct'] = self.companiesDF[self.ticker].pct_change()\n",
    "        self.companiesDF.dropna(inplace=True)\n",
    "\n",
    "    def makeColumns(self):\n",
    "        self.columns = []\n",
    "        for column in self.companiesDF.iteritems():\n",
    "            self.columns.append(column[0])\n",
    "\n",
    "    # Graphs the price of the Stocks\n",
    "    def graphStocks(self):\n",
    "        for x in self.columns:\n",
    "            plt.plot(self.dateRange, self.companiesDF[x], label = x)\n",
    "        plt.title(\"Portfolio Stock Prices\", fontsize=20)\n",
    "        self.makeGraph(True)\n",
    "\n",
    "    # Adds the Axis and Customization to Graphs\n",
    "    def makeGraph(self, legend=False):\n",
    "        plt.xticks(rotation=70)\n",
    "        plt.xlabel(\"Dates\", fontsize=14)\n",
    "        plt.ylabel(\"Price $(USD)\", fontsize=14)\n",
    "        if legend:\n",
    "            plt.legend(bbox_to_anchor=(1.0, 1.0))"
   ]
  },
  {
   "cell_type": "code",
   "execution_count": 100,
   "metadata": {},
   "outputs": [],
   "source": [
    "def makeObjects(tickerList):\n",
    "    objectList = []\n",
    "    for ticker in tickerList:\n",
    "        objectList.append(Stock(ticker, start_date, end_date))\n",
    "    return objectList\n",
    "    \n",
    "stockObjects = makeObjects(ticker_list)"
   ]
  },
  {
   "cell_type": "code",
   "execution_count": 101,
   "metadata": {},
   "outputs": [
    {
     "data": {
      "text/plain": [
       "'OXY'"
      ]
     },
     "execution_count": 101,
     "metadata": {},
     "output_type": "execute_result"
    }
   ],
   "source": [
    "def findHighestStd(tickerList):\n",
    "    '''\n",
    "    purpose:\n",
    "        calculates beta between each individual stock and the overall market (SP500 index)\n",
    "    input:\n",
    "        tickerList (listof Stock): a list of Stock objects\n",
    "    output: \n",
    "        A list of the beta of each stock in tickerList (assume US market)\n",
    "    '''\n",
    "\n",
    "    # find stock object with highest std\n",
    "    highestStd = 0\n",
    "    highestStdObj = tickerList[0]\n",
    "\n",
    "    for ticker in tickerList:\n",
    "        if(ticker.ticker != '^GSPC'):\n",
    "            tempStd = ticker.companiesDF['pct'].std()\n",
    "            if(tempStd >= highestStd):\n",
    "                highestStd = tempStd\n",
    "                highestStdObj = ticker\n",
    "\n",
    "    return highestStdObj\n",
    "\n",
    "mainStock = findHighestStd(stockObjects)\n",
    "mainStock.ticker"
   ]
  },
  {
   "cell_type": "code",
   "execution_count": 102,
   "metadata": {},
   "outputs": [
    {
     "data": {
      "text/plain": [
       "'BA'"
      ]
     },
     "execution_count": 102,
     "metadata": {},
     "output_type": "execute_result"
    }
   ],
   "source": [
    "# currently not working with class objects\n",
    "def findHighestBeta(tickerList):\n",
    "    '''\n",
    "    purpose:\n",
    "        calculates beta between each individual stock and the overall market (SP500 index)\n",
    "    input:\n",
    "        tickerList (listof Stock): a list of Stock objects\n",
    "    output: \n",
    "        A list of the beta of each stock in tickerList (assume US market)\n",
    "    '''\n",
    "\n",
    "    # calculating market variance\n",
    "    marketVar=tickerList[-1].companiesDF['pct'].var()\n",
    "    \n",
    "    # calculating each Beta, then store in the beta dict\n",
    "    highestBeta = 0\n",
    "    highestBetaObj = tickerList[0]\n",
    "    for ticker in tickerList:\n",
    "        \n",
    "        if(ticker.ticker != '^GSPC'):\n",
    "            temp=pd.DataFrame()\n",
    "            temp['market_close']=tickerList[-1].companiesDF['pct']\n",
    "            temp[\"ticker_close\"]=ticker.companiesDF['pct']\n",
    "\n",
    "            tempBeta=temp.cov()/marketVar\n",
    "            tempBeta=tempBeta.iloc[0,1]\n",
    "            tempBeta=np.absolute(tempBeta)\n",
    "\n",
    "            if(tempBeta>highestBeta):\n",
    "                highestBeta = tempBeta\n",
    "                highestBetaObj = ticker\n",
    "\n",
    "    return highestBetaObj\n",
    "\n",
    "highBetaStock = findHighestBeta(stockObjects)\n",
    "highBetaStock.ticker\n"
   ]
  },
  {
   "cell_type": "code",
   "execution_count": 103,
   "metadata": {},
   "outputs": [],
   "source": [
    "def calculateCorrelation(ticker1, ticker2):\n",
    "    '''\n",
    "    purpose:\n",
    "        calculates the correlation between two stock\n",
    "    input:\n",
    "        ticker1 (Stock): Stock object 1\n",
    "        ticker2 (Stock): Stock object 2\n",
    "    output: \n",
    "        A Dictionary with key of format \"ticker1+ticker2\" and the \n",
    "        value is the correlation between the 2 tickers\n",
    "    '''\n",
    "    correlation=pd.DataFrame()\n",
    "    correlation[ticker1.ticker]=ticker1.companiesDF['pct']\n",
    "    correlation[ticker2.ticker]=ticker2.companiesDF['pct']\n",
    "    correlation=correlation.corr()\n",
    "    correlation=correlation.iloc[0,1]\n",
    "\n",
    "\n",
    "    return correlation"
   ]
  },
  {
   "cell_type": "code",
   "execution_count": 104,
   "metadata": {},
   "outputs": [],
   "source": [
    "def selectPortfolio(mainStock, tickerList):\n",
    "    portfolio = [mainStock]\n",
    "    \n",
    "    threshold = 0.95  \n",
    "    while True:\n",
    "        for ticker in tickerList:\n",
    "            if ticker.ticker != mainStock.ticker:\n",
    "                if calculateCorrelation(mainStock, ticker) >= threshold:\n",
    "                    portfolio.append(ticker) \n",
    "        if len(portfolio) < 12:\n",
    "                portfolio = []\n",
    "                threshold -= 0.05\n",
    "        elif len(portfolio) > 12:\n",
    "                portfolio = []\n",
    "                threshold += 0.001\n",
    "        else:\n",
    "            break\n",
    "    return portfolio\n",
    "\n",
    "portfolioObj = selectPortfolio(mainStock, stockObjects)"
   ]
  },
  {
   "cell_type": "code",
   "execution_count": 105,
   "metadata": {},
   "outputs": [
    {
     "ename": "SyntaxError",
     "evalue": "invalid syntax (3247766139.py, line 3)",
     "output_type": "error",
     "traceback": [
      "\u001b[1;36m  Cell \u001b[1;32mIn [105], line 3\u001b[1;36m\u001b[0m\n\u001b[1;33m    return .to_csv(\"Stocks_Group_12.csv\")\u001b[0m\n\u001b[1;37m           ^\u001b[0m\n\u001b[1;31mSyntaxError\u001b[0m\u001b[1;31m:\u001b[0m invalid syntax\n"
     ]
    }
   ],
   "source": [
    "def portfolioFinal(portfolioObj):\n",
    "    \n",
    "    targetNumberofStocks\n",
    "    Portfolio_Final\n",
    "    Stocks_Final"
   ]
  },
  {
   "cell_type": "code",
   "execution_count": null,
   "metadata": {},
   "outputs": [],
   "source": [
    "\n",
    "    return .to_csv(\"Stocks_Group_12.csv\")"
   ]
  },
  {
   "cell_type": "markdown",
   "metadata": {},
   "source": [
    "## Contribution Declaration\n",
    "\n",
    "The following team members made a meaningful contribution to this assignment:\n",
    "\n",
    "- Robin:\n",
    "- Jessica:\n",
    "- Eric: "
   ]
  }
 ],
 "metadata": {
  "kernelspec": {
   "display_name": "Python 3 (ipykernel)",
   "language": "python",
   "name": "python3"
  },
  "language_info": {
   "codemirror_mode": {
    "name": "ipython",
    "version": 3
   },
   "file_extension": ".py",
   "mimetype": "text/x-python",
   "name": "python",
   "nbconvert_exporter": "python",
   "pygments_lexer": "ipython3",
   "version": "3.10.4"
  },
  "vscode": {
   "interpreter": {
    "hash": "7265459b4a582c574317d3f127d2c3cc923919ffb2e40e45f38586abe057b669"
   }
  }
 },
 "nbformat": 4,
 "nbformat_minor": 2
}
