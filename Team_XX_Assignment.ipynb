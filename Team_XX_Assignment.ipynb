{
 "cells": [
  {
   "cell_type": "code",
   "execution_count": 24,
   "metadata": {},
   "outputs": [],
   "source": [
    "from IPython.display import display, Math, Latex\n",
    "\n",
    "import pandas as pd\n",
    "import numpy as np\n",
    "import numpy_financial as npf\n",
    "import yfinance as yf\n",
    "import matplotlib.pyplot as plt\n",
    "from datetime import datetime\n",
    "import warnings\n",
    "warnings.filterwarnings('ignore')"
   ]
  },
  {
   "cell_type": "markdown",
   "metadata": {},
   "source": [
    "#### Group Assignment\n",
    "- Team Number: <font color=\"yellow\"> 12 </font>\n",
    "- Team Member Names: <font color=\"yellow\"> Robin Zhang, Jessica Chen, Eric Wang </font>\n",
    "- Team Strategy Chosen: <font color=\"red\"> Risky </font>"
   ]
  },
  {
   "cell_type": "code",
   "execution_count": 29,
   "metadata": {},
   "outputs": [],
   "source": [
    "start_date = \"2019-11-24\"\n",
    "end_date = \"2022-11-24\""
   ]
  },
  {
   "cell_type": "code",
   "execution_count": 30,
   "metadata": {},
   "outputs": [
    {
     "name": "stdout",
     "output_type": "stream",
     "text": [
      "- AGN: No data found, symbol may be delisted\n",
      "- CELG: No data found, symbol may be delisted\n",
      "- PCLN: No data found for this date range, symbol may be delisted\n",
      "- RTN: No data found, symbol may be delisted\n",
      "- TWX: No data found for this date range, symbol may be delisted\n",
      "['ABBV', 'ABT', 'ACN', 'AIG', 'AMZN', 'AXP', 'BA', 'BAC', 'BIIB', 'BK', 'BLK', 'BMY', 'C', 'CAT', 'CL', 'CMCSA', 'COF', 'COP', 'COST', 'CSCO', 'CVS', 'GM', 'GOOG', 'JPM', 'KMI', 'KO', 'LLY', 'LMT', 'MO', 'MON', 'MRK', 'MS', 'MSFT', 'NEE', 'NKE', 'ORCL', 'OXY', 'PEP', 'PFE', 'PG', 'PM', 'PYPL', 'QCOM', 'SBUX', 'SLB', 'SO', 'SPG', 'T', 'TGT', 'TXN', 'UNH', 'UNP', 'UPS', 'USB', 'AAPL']\n"
     ]
    }
   ],
   "source": [
    "#Call the CSV file and store it in a dataframe\n",
    "tickers = pd.read_csv('Tickers_Example.csv')\n",
    "length = len(tickers)\n",
    "\n",
    "#get first value\n",
    "colname = tickers.columns[0]\n",
    "missing_data = pd.DataFrame({'AAPL': [colname]})\n",
    "\n",
    "tickers = tickers.append(missing_data)\n",
    "\n",
    "tickers.reset_index(inplace=True, drop=True)\n",
    "\n",
    "#make list of tickers\n",
    "#tickers is now AAPL because it does not work if tickers is called tickers\n",
    "#I am not sure why\n",
    "ticker_list = list(tickers.AAPL)\n",
    "\n",
    "ticker_data = {}\n",
    "new_lst = []\n",
    "i=0\n",
    "\n",
    "for t in ticker_list:\n",
    "    firm = yf.Ticker(ticker_list[i])\n",
    "    firm_hist = firm.history(start=start_date, end=end_date, interval='1mo')\n",
    "\n",
    "    ticker_data[t] = firm_hist.Volume\n",
    "\n",
    "    if ticker_data[t].mean() > 200000:\n",
    "        #make a new lst that stores the values where mean >200 000\n",
    "        #return that list\n",
    "        new_lst.append(ticker_list[i])\n",
    "\n",
    "    i = i + 1\n",
    "\n",
    "ticker_list = new_lst \n",
    "for t in ticker_list:\n",
    "    if \".\" in t:\n",
    "        ticker_list.remove(t)\n",
    "        \n",
    "ticker_list"
   ]
  },
  {
   "cell_type": "code",
   "execution_count": 46,
   "metadata": {},
   "outputs": [],
   "source": [
    "class Stock:\n",
    "\n",
    "    # Initializing values when class is created\n",
    "    def __init__(self, ticker, start, end):\n",
    "\n",
    "\n",
    "        self.ticker = ticker\n",
    "        self.start = start\n",
    "        self.end = end\n",
    "        self.dateRange = pd.date_range(start=self.start, end=self.end, freq=pd.offsets.Week(1))\n",
    "        self.makeDataDict()\n",
    "        self.makeDataFrame()\n",
    "        self.makeColumns()\n",
    "\n",
    "    # Takes the history of the ticker and puts in dictionary\n",
    "    def makeDataDict(self):\n",
    "        self.companies = {}\n",
    "        self.companies[self.ticker] = yf.Ticker(self.ticker).history(start = self.start, end = self.end)['Close']\n",
    "\n",
    "    # Creates a DataFrame for every day 1 of the month\n",
    "    def makeDataFrame(self):\n",
    "        self.companiesDF = pd.DataFrame(self.companies)\n",
    "        self.companiesDF = self.companiesDF.groupby(pd.DatetimeIndex(self.companiesDF.index).to_period('W')).nth(0)\n",
    "\n",
    "    def makeColumns(self):\n",
    "        self.columns = []\n",
    "        for column in self.companiesDF.iteritems():\n",
    "            self.columns.append(column[0])\n",
    "\n",
    "    # Graphs the price of the Stocks\n",
    "    def graphStocks(self):\n",
    "        for x in self.columns:\n",
    "            plt.plot(self.dateRange, self.companiesDF[x], label = x)\n",
    "        plt.title(\"Portfolio Stock Prices\", fontsize=20)\n",
    "        self.makeGraph(True)\n",
    "\n",
    "    # Adds the Axis and Customization to Graphs\n",
    "    def makeGraph(self, legend=False):\n",
    "        plt.xticks(rotation=70)\n",
    "        plt.xlabel(\"Dates\", fontsize=14)\n",
    "        plt.ylabel(\"Price $(USD)\", fontsize=14)\n",
    "        if legend:\n",
    "            plt.legend(bbox_to_anchor=(1.0, 1.0))"
   ]
  },
  {
   "cell_type": "code",
   "execution_count": 47,
   "metadata": {},
   "outputs": [],
   "source": [
    "hello = Stock(\"AAPL\", start_date, end_date)"
   ]
  },
  {
   "cell_type": "code",
   "execution_count": 48,
   "metadata": {},
   "outputs": [
    {
     "data": {
      "text/plain": [
       "[<__main__.Stock at 0x19f5d8b8e50>,\n",
       " <__main__.Stock at 0x19f5d0d8fa0>,\n",
       " <__main__.Stock at 0x19f5d7fcc10>,\n",
       " <__main__.Stock at 0x19f5d7fefb0>,\n",
       " <__main__.Stock at 0x19f5d7fe9b0>,\n",
       " <__main__.Stock at 0x19f5d7fe980>,\n",
       " <__main__.Stock at 0x19f5d7fde10>,\n",
       " <__main__.Stock at 0x19f5d7ff310>,\n",
       " <__main__.Stock at 0x19f5d7fe080>,\n",
       " <__main__.Stock at 0x19f5d7fde40>,\n",
       " <__main__.Stock at 0x19f5d7fc340>,\n",
       " <__main__.Stock at 0x19f5d0f5c30>,\n",
       " <__main__.Stock at 0x19f5d7fc0a0>,\n",
       " <__main__.Stock at 0x19f59f87490>,\n",
       " <__main__.Stock at 0x19f5d9140a0>,\n",
       " <__main__.Stock at 0x19f5d9155a0>,\n",
       " <__main__.Stock at 0x19f5d915a80>,\n",
       " <__main__.Stock at 0x19f5d979ab0>,\n",
       " <__main__.Stock at 0x19f5d979f90>,\n",
       " <__main__.Stock at 0x19f5d97a470>,\n",
       " <__main__.Stock at 0x19f5d97a950>,\n",
       " <__main__.Stock at 0x19f5d97ae30>,\n",
       " <__main__.Stock at 0x19f5d97b310>,\n",
       " <__main__.Stock at 0x19f5d97a770>,\n",
       " <__main__.Stock at 0x19f5d97bf70>,\n",
       " <__main__.Stock at 0x19f5d97b1f0>,\n",
       " <__main__.Stock at 0x19f5d97bac0>,\n",
       " <__main__.Stock at 0x19f5d97be50>,\n",
       " <__main__.Stock at 0x19f5d979cf0>,\n",
       " <__main__.Stock at 0x19f5d97beb0>,\n",
       " <__main__.Stock at 0x19f5d989cc0>,\n",
       " <__main__.Stock at 0x19f5d988e20>,\n",
       " <__main__.Stock at 0x19f5d98a410>,\n",
       " <__main__.Stock at 0x19f5d98a8f0>,\n",
       " <__main__.Stock at 0x19f5d98a9e0>,\n",
       " <__main__.Stock at 0x19f5d98b2b0>,\n",
       " <__main__.Stock at 0x19f5d98b790>,\n",
       " <__main__.Stock at 0x19f5d98bdf0>,\n",
       " <__main__.Stock at 0x19f5d98b1f0>,\n",
       " <__main__.Stock at 0x19f5d98a080>,\n",
       " <__main__.Stock at 0x19f5d98b970>,\n",
       " <__main__.Stock at 0x19f5d98b430>,\n",
       " <__main__.Stock at 0x19f5d98b7c0>,\n",
       " <__main__.Stock at 0x19f5d999db0>,\n",
       " <__main__.Stock at 0x19f5d999ed0>,\n",
       " <__main__.Stock at 0x19f5d99a3b0>,\n",
       " <__main__.Stock at 0x19f5d99a890>,\n",
       " <__main__.Stock at 0x19f5d99ad70>,\n",
       " <__main__.Stock at 0x19f5d99ae60>,\n",
       " <__main__.Stock at 0x19f5d99b730>,\n",
       " <__main__.Stock at 0x19f5d99bc10>,\n",
       " <__main__.Stock at 0x19f5d99ba90>,\n",
       " <__main__.Stock at 0x19f5d99b3d0>,\n",
       " <__main__.Stock at 0x19f5d999780>,\n",
       " <__main__.Stock at 0x19f5d99bd60>]"
      ]
     },
     "execution_count": 48,
     "metadata": {},
     "output_type": "execute_result"
    }
   ],
   "source": [
    "def makeObjects(tickerList):\n",
    "    objectList = []\n",
    "    for ticker in tickerList:\n",
    "        objectList.append(Stock(ticker, start_date, end_date))\n",
    "    return objectList\n",
    "    \n",
    "makeObjects(ticker_list)"
   ]
  },
  {
   "cell_type": "code",
   "execution_count": null,
   "metadata": {},
   "outputs": [
    {
     "data": {
      "text/plain": [
       "'SHOP'"
      ]
     },
     "execution_count": 5,
     "metadata": {},
     "output_type": "execute_result"
    }
   ],
   "source": [
    "# currently not working with class objects\n",
    "def findHighestBeta(tickerList):\n",
    "    '''\n",
    "    purpose:\n",
    "        calculates beta between each individual stock and the overall market (SP500 index)\n",
    "    input:\n",
    "        tickerList (listof Stock): a list of Stock objects\n",
    "    output: \n",
    "        A list of the beta of each stock in tickerList (assume US market)\n",
    "    '''\n",
    "    beta = dict() # to store all beta values\n",
    "\n",
    "    # calculating market value\n",
    "    marketIndex='^GSPC'\n",
    "    marketTicker=yf.Ticker(marketIndex)\n",
    "    marketHist=marketTicker.history(start=start_date, end=end_date, interval=\"1mo\")\n",
    "    marketVar=marketHist[\"Close\"].pct_change().var()\n",
    "    \n",
    "    # calculating each Beta, then store in the beta dict\n",
    "    for ticker in tickerList:\n",
    "        \n",
    "        #delete later, just access object attributes (make sure it's PERCENT CHANGE)\n",
    "        tempTicker=yf.Ticker(ticker)\n",
    "        tempHist=tempTicker.history(start=start_date, end=end_date, interval=\"1mo\")\n",
    "        temp=pd.DataFrame()\n",
    "        temp[\"ticker_close\"]=tempHist[\"Close\"].pct_change()\n",
    "        temp['market_close']=marketHist[\"Close\"].pct_change()\n",
    "        temp.dropna(inplace=True)\n",
    "\n",
    "        tempBeta=temp.cov()/marketVar\n",
    "        #make sure to access the name attribute later\n",
    "        tempBeta=tempBeta.iloc[0,1]\n",
    "        beta[ticker]=np.absolute(tempBeta)\n",
    "        maxBeta = max(beta)\n",
    "        maxBetaValue = beta.get(maxBeta)\n",
    "    return maxBeta, maxBetaValue\n",
    "\n",
    "tickerName, betaValue = findHighestBeta([\"AAPL\", \"SHOP\", \"NFLX\", \"GME\"])\n"
   ]
  },
  {
   "cell_type": "code",
   "execution_count": null,
   "metadata": {},
   "outputs": [
    {
     "data": {
      "text/plain": [
       "{'NFLX': 0.38605796156135985}"
      ]
     },
     "execution_count": 8,
     "metadata": {},
     "output_type": "execute_result"
    }
   ],
   "source": [
    "def calculateCorrelation(ticker1, ticker2):\n",
    "    '''\n",
    "    purpose:\n",
    "        calculates the correlation between two stock\n",
    "    input:\n",
    "        ticker1 (Stock): Stock object 1\n",
    "        ticker2 (Stock): Stock object 2\n",
    "    output: \n",
    "        A Dictionary with key of format \"ticker1+ticker2\" and the \n",
    "        value is the correlation between the 2 tickers\n",
    "    '''\n",
    "    # change to accessing object attribute\n",
    "    tickerOne=yf.Ticker(ticker1)\n",
    "    tickerOneHist=tickerOne.history(start=start_date, end=end_date, interval=\"1mo\")\n",
    "    tickerTwo=yf.Ticker(ticker2)\n",
    "    tickerTwoHist=tickerTwo.history(start=start_date, end=end_date, interval=\"1mo\")\n",
    "\n",
    "    correlation=pd.DataFrame()\n",
    "    correlation[ticker1]=tickerOneHist[\"Close\"].pct_change()\n",
    "    correlation[ticker2]=tickerTwoHist[\"Close\"].pct_change()\n",
    "    correlation.dropna(inplace=True)\n",
    "    correlation=correlation.corr()\n",
    "    correlation=correlation.iloc[0,1]\n",
    "\n",
    "    return {ticker2: correlation}\n",
    "\n",
    "calculateCorrelation(\"AAPL\", \"NFLX\")"
   ]
  },
  {
   "cell_type": "code",
   "execution_count": null,
   "metadata": {},
   "outputs": [],
   "source": [
    "def selectPortfolio(maxBetaTicker, tickers):\n",
    "    portfolio = []\n",
    "    correlation = []\n",
    "    for ticker in tickers:\n",
    "        correlation += calculateCorrelation(maxBetaTicker, ticker)\n",
    "    \n",
    "    threshold = 0.9  \n",
    "    while len(portfolio) <= 11:\n",
    "        for ticker in correlation:\n",
    "            if list(ticker.values())[0] >= threshold:\n",
    "                portfolio += list(ticker.keys())[0]\n",
    "        if len(portfolio) <= 11:\n",
    "            portfolio = []\n",
    "            threshold -= 0.1\n",
    "    portfolio += maxBetaTicker\n",
    "    \n",
    "    return portfolio"
   ]
  },
  {
   "cell_type": "markdown",
   "metadata": {},
   "source": [
    "## Contribution Declaration\n",
    "\n",
    "The following team members made a meaningful contribution to this assignment:\n",
    "\n",
    "- Robin:\n",
    "- Jessica:\n",
    "- Eric: "
   ]
  }
 ],
 "metadata": {
  "kernelspec": {
   "display_name": "Python 3 (ipykernel)",
   "language": "python",
   "name": "python3"
  },
  "language_info": {
   "codemirror_mode": {
    "name": "ipython",
    "version": 3
   },
   "file_extension": ".py",
   "mimetype": "text/x-python",
   "name": "python",
   "nbconvert_exporter": "python",
   "pygments_lexer": "ipython3",
   "version": "3.10.4"
  },
  "vscode": {
   "interpreter": {
    "hash": "7265459b4a582c574317d3f127d2c3cc923919ffb2e40e45f38586abe057b669"
   }
  }
 },
 "nbformat": 4,
 "nbformat_minor": 2
}
