{
 "cells": [
  {
   "cell_type": "code",
   "execution_count": 5,
   "metadata": {},
   "outputs": [],
   "source": [
    "from IPython.display import display, Math, Latex\n",
    "\n",
    "import pandas as pd\n",
    "import numpy as np\n",
    "import numpy_financial as npf\n",
    "import yfinance as yf\n",
    "import matplotlib.pyplot as plt\n",
    "from datetime import datetime"
   ]
  },
  {
   "cell_type": "markdown",
   "metadata": {},
   "source": [
    "#### Group Assignment\n",
    "- Team Number: <font color=\"yellow\"> 12 </font>\n",
    "- Team Member Names: <font color=\"yellow\"> Robin Zhang, Jessica Chen, Eric Wang </font>\n",
    "- Team Strategy Chosen: <font color=\"red\"> Risky </font>"
   ]
  },
  {
   "cell_type": "code",
   "execution_count": 11,
   "metadata": {},
   "outputs": [],
   "source": [
    "start_date = \"2017-01-01\"\n",
    "end_date = \"2022-11-02\""
   ]
  },
  {
   "cell_type": "code",
   "execution_count": 1,
   "metadata": {},
   "outputs": [],
   "source": [
    "class Stock:\n",
    "\n",
    "    # Initializing values when class is created\n",
    "    def init(self, stockList, start, end):\n",
    "        \n",
    "        self.stockList = stockList\n",
    "        self.start = start\n",
    "        self.end = end\n",
    "        self.dateRange = pd.date_range(start=self.start, end=self.end, freq=pd.offsets.Week(1))\n",
    "        self.makeDataDict()\n",
    "        self.makeDataFrame()\n",
    "        self.makeColumns()\n",
    "\n",
    "\n",
    "    # Takes the history of the ticker and puts in dictionary\n",
    "    def makeDataDict(self):\n",
    "        self.companies = {}\n",
    "        for ticker in self.stockList:\n",
    "            self.companies[ticker] = yf.Ticker(ticker).history(start = self.start, end = self.end)['Close']\n",
    "\n",
    "    # Creates a DataFrame for every day 1 of the month\n",
    "    def makeDataFrame(self):\n",
    "        self.companiesDF = pd.DataFrame(self.companies)\n",
    "        self.companiesDF = self.companiesDF.groupby(pd.DatetimeIndex(self.companiesDF.index).to_period('W')).nth(0)\n",
    "\n",
    "    def makeColumns(self):\n",
    "        self.columns = []\n",
    "        for column in self.companiesDF.iteritems():\n",
    "            self.columns.append(column[0])\n",
    "\n",
    "    # Graphs the price of the Stocks\n",
    "    def graphStocks(self):\n",
    "        for x in self.columns:\n",
    "            plt.plot(self.dateRange, self.companiesDF[x], label = x)\n",
    "        plt.title(\"Portfolio Stock Prices\", fontsize=20)\n",
    "        self.makeGraph(True)\n",
    "\n",
    "    # Adds the Axis and Customization to Graphs\n",
    "    def makeGraph(self, legend=False):\n",
    "        plt.xticks(rotation=70)\n",
    "        plt.xlabel(\"Dates\", fontsize=14)\n",
    "        plt.ylabel(\"Price $(USD)\", fontsize=14)\n",
    "        if legend:\n",
    "            plt.legend(bbox_to_anchor=(1.0, 1.0))"
   ]
  },
  {
   "cell_type": "code",
   "execution_count": 24,
   "metadata": {},
   "outputs": [
    {
     "data": {
      "text/plain": [
       "{'AAPL': 1.2581464115427943,\n",
       " 'SHOP': 1.8598595513180114,\n",
       " 'NFLX': 1.300868723529694}"
      ]
     },
     "execution_count": 24,
     "metadata": {},
     "output_type": "execute_result"
    }
   ],
   "source": [
    "# currently not working with class objects\n",
    "def calculateBeta(tickerList):\n",
    "    '''\n",
    "    purpose:\n",
    "        calculates beta between each individual stock and the overall market (SP500 index)\n",
    "    input:\n",
    "        tickerList (listof Stock): a list of Stock objects\n",
    "    output: \n",
    "        A list of the beta of each stock in tickerList (assume US market)\n",
    "    '''\n",
    "    beta = dict() # to store all beta values\n",
    "\n",
    "    # calculating market value\n",
    "    marketIndex='^GSPC'\n",
    "    marketTicker=yf.Ticker(marketIndex)\n",
    "    marketHist=marketTicker.history(start=start_date, end=end_date, interval=\"1mo\")\n",
    "    marketVar=marketHist[\"Close\"].pct_change().var()\n",
    "    \n",
    "    # calculating each Beta, then store in the beta dict\n",
    "    for ticker in tickerList:\n",
    "        \n",
    "        #delete later, just access object attributes (make sure it's PERCENT CHANGE)\n",
    "        tempTicker=yf.Ticker(ticker)\n",
    "        tempHist=tempTicker.history(start=start_date, end=end_date, interval=\"1mo\")\n",
    "        temp=pd.DataFrame()\n",
    "        temp[\"ticker_close\"]=tempHist[\"Close\"].pct_change()\n",
    "        temp['market_close']=marketHist[\"Close\"].pct_change()\n",
    "        temp.dropna(inplace=True)\n",
    "\n",
    "        tempBeta=temp.cov()/marketVar\n",
    "        #make sure to access the name attribute later\n",
    "        tempBeta=tempBeta.iloc[0,1]\n",
    "        beta[ticker]=tempBeta\n",
    "    return beta\n",
    "        \n",
    "calculateBeta([\"AAPL\", \"SHOP\", \"NFLX\"])"
   ]
  },
  {
   "cell_type": "code",
   "execution_count": 34,
   "metadata": {},
   "outputs": [
    {
     "data": {
      "text/plain": [
       "{'AAPL+NFLX': 0.38525161813324565}"
      ]
     },
     "execution_count": 34,
     "metadata": {},
     "output_type": "execute_result"
    }
   ],
   "source": [
    "def calculateCorrelation(ticker1, ticker2):\n",
    "    '''\n",
    "    purpose:\n",
    "        calculates the correlation between two stock\n",
    "    input:\n",
    "        ticker1 (Stock): Stock object 1\n",
    "        ticker2 (Stock): Stock object 2\n",
    "    output: \n",
    "        A Dictionary with key of format \"ticker1+ticker2\" and the \n",
    "        value is the correlation between the 2 tickers\n",
    "    '''\n",
    "    # change to accessing object attribute\n",
    "    tickerOne=yf.Ticker(ticker1)\n",
    "    tickerOneHist=tickerOne.history(start=start_date, end=end_date, interval=\"1mo\")\n",
    "    tickerTwo=yf.Ticker(ticker2)\n",
    "    tickerTwoHist=tickerTwo.history(start=start_date, end=end_date, interval=\"1mo\")\n",
    "\n",
    "    correlation=pd.DataFrame()\n",
    "    correlation[ticker1]=tickerOneHist[\"Close\"].pct_change()\n",
    "    correlation[ticker2]=tickerTwoHist[\"Close\"].pct_change()\n",
    "    correlation.dropna(inplace=True)\n",
    "    correlation=correlation.corr()\n",
    "    correlation=correlation.iloc[0,1]\n",
    "\n",
    "    return {ticker1+\"+\"+ticker2: correlation}\n",
    "\n",
    "calculateCorrelation(\"AAPL\", \"NFLX\")"
   ]
  },
  {
   "cell_type": "code",
   "execution_count": 25,
   "metadata": {},
   "outputs": [],
   "source": [
    "def selectPortfolio(beta, tickers):\n",
    "    print()"
   ]
  },
  {
   "cell_type": "markdown",
   "metadata": {},
   "source": [
    "## Contribution Declaration\n",
    "\n",
    "The following team members made a meaningful contribution to this assignment:\n",
    "\n",
    "- Robin:\n",
    "- Jessica:\n",
    "- Eric: "
   ]
  }
 ],
 "metadata": {
  "kernelspec": {
   "display_name": "Python 3 (ipykernel)",
   "language": "python",
   "name": "python3"
  },
  "language_info": {
   "codemirror_mode": {
    "name": "ipython",
    "version": 3
   },
   "file_extension": ".py",
   "mimetype": "text/x-python",
   "name": "python",
   "nbconvert_exporter": "python",
   "pygments_lexer": "ipython3",
   "version": "3.10.4"
  },
  "vscode": {
   "interpreter": {
    "hash": "7265459b4a582c574317d3f127d2c3cc923919ffb2e40e45f38586abe057b669"
   }
  }
 },
 "nbformat": 4,
 "nbformat_minor": 2
}
